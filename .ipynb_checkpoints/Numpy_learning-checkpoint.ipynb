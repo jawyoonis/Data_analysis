{
 "cells": [
  {
   "cell_type": "code",
   "execution_count": 1,
   "metadata": {},
   "outputs": [],
   "source": [
    "import numpy as np\n"
   ]
  },
  {
   "cell_type": "code",
   "execution_count": 9,
   "metadata": {},
   "outputs": [],
   "source": [
    "np1=np.array([3,4,5,56])"
   ]
  },
  {
   "cell_type": "code",
   "execution_count": 10,
   "metadata": {},
   "outputs": [
    {
     "data": {
      "text/plain": [
       "array([ 3,  4,  5, 56])"
      ]
     },
     "execution_count": 10,
     "metadata": {},
     "output_type": "execute_result"
    }
   ],
   "source": [
    "np1"
   ]
  },
  {
   "cell_type": "code",
   "execution_count": 16,
   "metadata": {},
   "outputs": [],
   "source": [
    "mat1=np.array([[1,5,6,6,7,7], [3,5,6,6,7,7]])"
   ]
  },
  {
   "cell_type": "code",
   "execution_count": 17,
   "metadata": {},
   "outputs": [
    {
     "data": {
      "text/plain": [
       "array([[1, 5, 6, 6, 7, 7],\n",
       "       [3, 5, 6, 6, 7, 7]])"
      ]
     },
     "execution_count": 17,
     "metadata": {},
     "output_type": "execute_result"
    }
   ],
   "source": [
    "mat1"
   ]
  },
  {
   "cell_type": "code",
   "execution_count": 18,
   "metadata": {},
   "outputs": [],
   "source": [
    "rang= np.arange(0,10,2)"
   ]
  },
  {
   "cell_type": "code",
   "execution_count": 19,
   "metadata": {},
   "outputs": [
    {
     "data": {
      "text/plain": [
       "array([0, 2, 4, 6, 8])"
      ]
     },
     "execution_count": 19,
     "metadata": {},
     "output_type": "execute_result"
    }
   ],
   "source": [
    "rang"
   ]
  },
  {
   "cell_type": "code",
   "execution_count": 20,
   "metadata": {},
   "outputs": [],
   "source": [
    "mat2=np.linspace(0,10,20)"
   ]
  },
  {
   "cell_type": "code",
   "execution_count": 21,
   "metadata": {},
   "outputs": [
    {
     "data": {
      "text/plain": [
       "array([ 0.        ,  0.52631579,  1.05263158,  1.57894737,  2.10526316,\n",
       "        2.63157895,  3.15789474,  3.68421053,  4.21052632,  4.73684211,\n",
       "        5.26315789,  5.78947368,  6.31578947,  6.84210526,  7.36842105,\n",
       "        7.89473684,  8.42105263,  8.94736842,  9.47368421, 10.        ])"
      ]
     },
     "execution_count": 21,
     "metadata": {},
     "output_type": "execute_result"
    }
   ],
   "source": [
    "mat2"
   ]
  },
  {
   "cell_type": "code",
   "execution_count": 28,
   "metadata": {},
   "outputs": [],
   "source": [
    "mat3= np.random.rand(20,4)"
   ]
  },
  {
   "cell_type": "code",
   "execution_count": 29,
   "metadata": {},
   "outputs": [
    {
     "data": {
      "text/plain": [
       "array([[0.73571775, 0.59237923, 0.72948483, 0.02893745],\n",
       "       [0.26414884, 0.19117068, 0.34761778, 0.80666351],\n",
       "       [0.18208064, 0.13762799, 0.38255226, 0.92612463],\n",
       "       [0.78337091, 0.87811381, 0.15087189, 0.9085165 ],\n",
       "       [0.32034886, 0.92480227, 0.12112331, 0.47162494],\n",
       "       [0.79958798, 0.52850397, 0.34827946, 0.84417127],\n",
       "       [0.70577976, 0.23310141, 0.64705943, 0.18575597],\n",
       "       [0.63652599, 0.67174217, 0.1252331 , 0.50496701],\n",
       "       [0.29591819, 0.13355181, 0.53349422, 0.36203995],\n",
       "       [0.1451998 , 0.95932801, 0.36159457, 0.58488982],\n",
       "       [0.22040279, 0.80329689, 0.14221273, 0.42166975],\n",
       "       [0.19231454, 0.13841437, 0.13485949, 0.07953805],\n",
       "       [0.16320884, 0.22727115, 0.98896457, 0.99459886],\n",
       "       [0.73965738, 0.78049062, 0.47056001, 0.22956225],\n",
       "       [0.59387502, 0.59833739, 0.71824816, 0.53129904],\n",
       "       [0.6366776 , 0.51886799, 0.72158231, 0.70612844],\n",
       "       [0.3237102 , 0.70003142, 0.36514181, 0.45781941],\n",
       "       [0.57969915, 0.9527883 , 0.86884728, 0.59996895],\n",
       "       [0.5729257 , 0.63028275, 0.20968289, 0.09259841],\n",
       "       [0.59467636, 0.44360383, 0.10966048, 0.49434183]])"
      ]
     },
     "execution_count": 29,
     "metadata": {},
     "output_type": "execute_result"
    }
   ],
   "source": [
    "mat3"
   ]
  },
  {
   "cell_type": "code",
   "execution_count": null,
   "metadata": {},
   "outputs": [],
   "source": []
  }
 ],
 "metadata": {
  "kernelspec": {
   "display_name": "Python 3",
   "language": "python",
   "name": "python3"
  },
  "language_info": {
   "codemirror_mode": {
    "name": "ipython",
    "version": 3
   },
   "file_extension": ".py",
   "mimetype": "text/x-python",
   "name": "python",
   "nbconvert_exporter": "python",
   "pygments_lexer": "ipython3",
   "version": "3.8.3"
  }
 },
 "nbformat": 4,
 "nbformat_minor": 4
}
